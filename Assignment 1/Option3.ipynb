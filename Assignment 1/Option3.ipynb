{
 "cells": [
  {
   "cell_type": "code",
   "execution_count": 1,
   "metadata": {},
   "outputs": [],
   "source": [
    "import pyterrier as pt\n",
    "import pandas as pd\n",
    "import os\n",
    "import nltk\n"
   ]
  },
  {
   "cell_type": "code",
   "execution_count": 4,
   "metadata": {},
   "outputs": [],
   "source": [
    "# Modified version of Document where tokens are not included \n",
    "class Document:\n",
    "  def __init__(self, doc_no, doc_text, tokens):\n",
    "    self.doc_no = doc_no\n",
    "    # self.doc_text = doc_text\n",
    "    self.tokens = tokens\n",
    "\n",
    "  def __str__(self):\n",
    "    # return 'Document Number: ' + self.doc_no + '\\nDocument Text: ' + self.doc_text + '\\nTokens: ' + str(self.tokens) + '\\n'\n",
    "    return 'Document Number: ' + self.doc_no + '\\nDocument Text: ' + self.doc_text \n",
    "\n",
    "\n",
    "  def to_dict(self):\n",
    "    # return {'docno': self.doc_no, 'doctext': self.doc_text, 'tokens': self.tokens, 'text': ' '.join(self.tokens)}\n",
    "    return {'docno': self.doc_no, 'doctext': self.doc_text}\n"
   ]
  },
  {
   "cell_type": "code",
   "execution_count": 2,
   "metadata": {},
   "outputs": [],
   "source": [
    "# Modified version of preprocess where tokenizing is removed \n",
    "def preprocess(file):\n",
    "    with open(file, \"r\") as f:\n",
    "        content = f.read()\n",
    "    documents = re.findall(r'<DOC>(.*?)</DOC>', content, re.DOTALL)\n",
    "    preprocessed_documents = []\n",
    "    for document in documents:\n",
    "        # Get the document number and text\n",
    "        raw_no = re.search(r'<DOCNO>(.*?)</DOCNO>', document, re.DOTALL)\n",
    "        doc_no = raw_no.group(1) if raw_no else ''\n",
    "        raw_text = re.search(r'<TEXT>(.*?)</TEXT>', document, re.DOTALL)\n",
    "        doc_text = raw_text.group(1) if raw_text else ''\n",
    "    doc = Document(doc_no, doc_text)\n",
    "    preprocessed_documents.append(doc)\n",
    "    return preprocessed_documents\n"
   ]
  },
  {
   "cell_type": "code",
   "execution_count": null,
   "metadata": {},
   "outputs": [],
   "source": [
    "# main function to preprocess a directory of text files\n",
    "def preprocess_directory(directory, num_files=-1):\n",
    "  preprocessed_documents = []\n",
    "  ctr = 0\n",
    "  for filename in os.listdir(directory):\n",
    "    print('Preprocessing file: ', filename)\n",
    "    file = os.path.join(directory, filename)\n",
    "    preprocessed_documents.extend(preprocess(file))\n",
    "    ctr += 1\n",
    "    if ctr == num_files and num_files != -1:\n",
    "      break\n",
    "  return preprocessed_documents\n"
   ]
  },
  {
   "cell_type": "code",
   "execution_count": null,
   "metadata": {},
   "outputs": [],
   "source": [
    "\n",
    "# Grabs the queries?\n",
    "def extract_topics(file):\n",
    "  with open(file, \"r\") as f:\n",
    "    topic_content = f.read()\n",
    "  all_topics = []\n",
    "  topics = re.findall(r'<top>(.*?)</top>', topic_content, re.DOTALL)\n",
    "  for topic in topics:\n",
    "    raw_title = re.search(r'<title>(.*?)\\n\\n', topic, re.DOTALL)\n",
    "    title = raw_title.group(1) if raw_title else ''\n",
    "    all_topics.append(title)\n",
    "  return all_topics"
   ]
  }
 ],
 "metadata": {
  "kernelspec": {
   "display_name": "Python 3",
   "language": "python",
   "name": "python3"
  },
  "language_info": {
   "codemirror_mode": {
    "name": "ipython",
    "version": 3
   },
   "file_extension": ".py",
   "mimetype": "text/x-python",
   "name": "python",
   "nbconvert_exporter": "python",
   "pygments_lexer": "ipython3",
   "version": "3.10.5"
  },
  "orig_nbformat": 4
 },
 "nbformat": 4,
 "nbformat_minor": 2
}
