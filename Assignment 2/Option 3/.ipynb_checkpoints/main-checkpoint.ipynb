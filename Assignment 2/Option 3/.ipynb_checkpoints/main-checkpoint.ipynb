{
 "cells": [
  {
   "cell_type": "code",
   "execution_count": null,
   "id": "fcb5c76a",
   "metadata": {
    "lines_to_next_cell": 0
   },
   "outputs": [],
   "source": []
  },
  {
   "cell_type": "code",
   "execution_count": null,
   "id": "78346086",
   "metadata": {
    "lines_to_next_cell": 2
   },
   "outputs": [],
   "source": [
    "import pyterrier as pt\n",
    "import pandas as pd\n",
    "import os\n",
    "import nltk\n",
    "nltk.download('punkt')\n",
    "from preprocessing import preprocess_directory"
   ]
  },
  {
   "cell_type": "code",
   "execution_count": null,
   "id": "8c46e627",
   "metadata": {
    "lines_to_next_cell": 1
   },
   "outputs": [],
   "source": [
    "if not pt.started():\n",
    "  pt.init()"
   ]
  },
  {
   "cell_type": "code",
   "execution_count": null,
   "id": "8133c84b",
   "metadata": {
    "lines_to_next_cell": 1
   },
   "outputs": [],
   "source": [
    "# Function to generate the index\n",
    "def generate_index():\n",
    "  # Preprocess the collection\n",
    "  preprocessed_documents = preprocess_directory('AP_collection/coll')\n",
    "\n",
    "  # Create a dataframe from the preprocessed documents\n",
    "  df = pd.DataFrame.from_records([doc.to_dict() for doc in preprocessed_documents])\n",
    "  df.head()\n",
    "\n",
    "  # Create a Terrier index from the dataframe\n",
    "  pd_indexer = pt.IterDictIndexer(os.path.abspath('./pd_index'), overwrite=True)\n",
    "  indexref = pd_indexer.index(df.to_dict(orient='records'))\n",
    "\n",
    "  return indexref"
   ]
  },
  {
   "cell_type": "code",
   "execution_count": null,
   "id": "d04cdb8f",
   "metadata": {},
   "outputs": [],
   "source": [
    "# Check if the index exists, if not create it\n",
    "if not os.path.exists('./pd_index'):\n",
    "  indexref = generate_index()\n",
    "else:\n",
    "  indexref = pt.IndexFactory.of(os.path.abspath('./pd_index/data.properties'))"
   ]
  },
  {
   "cell_type": "code",
   "execution_count": null,
   "id": "3ff3e560",
   "metadata": {},
   "outputs": [],
   "source": [
    "# Create a BM25 retrieval model\n",
    "bm25 = pt.BatchRetrieve(indexref, wmodel=\"BM25\")"
   ]
  },
  {
   "cell_type": "code",
   "execution_count": null,
   "id": "92d83a2e",
   "metadata": {},
   "outputs": [],
   "source": [
    "# use the BM25 model to index\n",
    "result = bm25.search(\"Coping with overcrowded prisons\")\n",
    "print('BM25')\n",
    "print(result)"
   ]
  },
  {
   "cell_type": "code",
   "execution_count": null,
   "id": "e2bd6943",
   "metadata": {},
   "outputs": [],
   "source": [
    "#print file out to Results \n",
    "bm_file_out = open('Results.txt', 'w')\n",
    "bm_file_out.write(result.to_string())\n",
    "bm_file_out.close()"
   ]
  },
  {
   "cell_type": "code",
   "execution_count": null,
   "id": "c2da26ca",
   "metadata": {
    "lines_to_next_cell": 2
   },
   "outputs": [],
   "source": [
    "# Use the tf-idf retrieval model to index\n",
    "tfidf = pt.BatchRetrieve(indexref, wmodel=\"TF_IDF\")\n",
    "result = tfidf.search(\"Coping with overcrowded prisons\")\n",
    "print('\\nTF-IDF')\n",
    "print(result)"
   ]
  }
 ],
 "metadata": {
  "jupytext": {
   "cell_metadata_filter": "-all",
   "main_language": "python",
   "notebook_metadata_filter": "-all"
  },
  "kernelspec": {
   "display_name": "Python 3 (ipykernel)",
   "language": "python",
   "name": "python3"
  },
  "language_info": {
   "codemirror_mode": {
    "name": "ipython",
    "version": 3
   },
   "file_extension": ".py",
   "mimetype": "text/x-python",
   "name": "python",
   "nbconvert_exporter": "python",
   "pygments_lexer": "ipython3",
   "version": "3.10.8"
  }
 },
 "nbformat": 4,
 "nbformat_minor": 5
}
